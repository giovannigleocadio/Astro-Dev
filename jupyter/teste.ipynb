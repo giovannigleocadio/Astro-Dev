{
 "cells": [
  {
   "cell_type": "code",
   "execution_count": 9,
   "metadata": {},
   "outputs": [],
   "source": [
    "resultado = {'Cnaes': [['https://dadosabertos.rfb.gov.br/CNPJ/Cnaes.zip'], 'dados_publicos_cnpj/Cnaes/', True],\n",
    "'Empresas': [['https://dadosabertos.rfb.gov.br/CNPJ/Empresas0.zip', 'https://dadosabertos.rfb.gov.br/CNPJ/Empresas1.zip', 'https://dadosabertos.rfb.gov.br/CNPJ/Empresas2.zip', 'https://dadosabertos.rfb.gov.br/CNPJ/Empresas3.zip', 'https://dadosabertos.rfb.gov.br/CNPJ/Empresas4.zip', 'https://dadosabertos.rfb.gov.br/CNPJ/Empresas5.zip', 'https://dadosabertos.rfb.gov.br/CNPJ/Empresas6.zip', 'https://dadosabertos.rfb.gov.br/CNPJ/Empresas7.zip', 'https://dadosabertos.rfb.gov.br/CNPJ/Empresas8.zip', 'https://dadosabertos.rfb.gov.br/CNPJ/Empresas9.zip'], 'dados_publicos_cnpj/Empresas/', True],\n",
    "'Estabelecimentos': [['https://dadosabertos.rfb.gov.br/CNPJ/Estabelecimentos0.zip', 'https://dadosabertos.rfb.gov.br/CNPJ/Estabelecimentos1.zip', 'https://dadosabertos.rfb.gov.br/CNPJ/Estabelecimentos2.zip', 'https://dadosabertos.rfb.gov.br/CNPJ/Estabelecimentos3.zip', 'https://dadosabertos.rfb.gov.br/CNPJ/Estabelecimentos4.zip', 'https://dadosabertos.rfb.gov.br/CNPJ/Estabelecimentos5.zip', 'https://dadosabertos.rfb.gov.br/CNPJ/Estabelecimentos6.zip', 'https://dadosabertos.rfb.gov.br/CNPJ/Estabelecimentos7.zip', 'https://dadosabertos.rfb.gov.br/CNPJ/Estabelecimentos8.zip', 'https://dadosabertos.rfb.gov.br/CNPJ/Estabelecimentos9.zip'], 'dados_publicos_cnpj/Estabelecimentos/', True],\n",
    "'Motivos': [['https://dadosabertos.rfb.gov.br/CNPJ/Motivos.zip'], 'dados_publicos_cnpj/Motivos/', True],\n",
    "'Municipios': [['https://dadosabertos.rfb.gov.br/CNPJ/Municipios.zip'], 'dados_publicos_cnpj/Municipios/', True],\n",
    "'Naturezas': [['https://dadosabertos.rfb.gov.br/CNPJ/Naturezas.zip'], 'dados_publicos_cnpj/Naturezas/', True],\n",
    "'Paises': [['https://dadosabertos.rfb.gov.br/CNPJ/Paises.zip'], 'dados_publicos_cnpj/Paises/', True],\n",
    "'Qualificacoes': [['https://dadosabertos.rfb.gov.br/CNPJ/Qualificacoes.zip'], 'dados_publicos_cnpj/Qualificacoes/', True],\n",
    "'Simples': [['https://dadosabertos.rfb.gov.br/CNPJ/Simples.zip'], 'dados_publicos_cnpj/Simples/', True],\n",
    "'Socios': [['https://dadosabertos.rfb.gov.br/CNPJ/Socios0.zip', 'https://dadosabertos.rfb.gov.br/CNPJ/Socios1.zip', 'https://dadosabertos.rfb.gov.br/CNPJ/Socios2.zip', 'https://dadosabertos.rfb.gov.br/CNPJ/Socios3.zip', 'https://dadosabertos.rfb.gov.br/CNPJ/Socios4.zip', 'https://dadosabertos.rfb.gov.br/CNPJ/Socios5.zip', 'https://dadosabertos.rfb.gov.br/CNPJ/Socios6.zip', 'https://dadosabertos.rfb.gov.br/CNPJ/Socios7.zip', 'https://dadosabertos.rfb.gov.br/CNPJ/Socios8.zip', 'https://dadosabertos.rfb.gov.br/CNPJ/Socios9.zip'], 'dados_publicos_cnpj/Socios/', True]}"
   ]
  },
  {
   "cell_type": "code",
   "execution_count": 10,
   "metadata": {},
   "outputs": [
    {
     "name": "stdout",
     "output_type": "stream",
     "text": [
      "Cnaes\n",
      "Empresas\n",
      "Estabelecimentos\n",
      "Motivos\n",
      "Municipios\n",
      "Naturezas\n",
      "Paises\n",
      "Qualificacoes\n",
      "Simples\n",
      "Socios\n"
     ]
    }
   ],
   "source": [
    "if len(resultado):\n",
    "    for k, v in resultado.items():\n",
    "        print(k)"
   ]
  },
  {
   "cell_type": "code",
   "execution_count": null,
   "metadata": {},
   "outputs": [],
   "source": []
  }
 ],
 "metadata": {
  "kernelspec": {
   "display_name": "Python 3.10.5 64-bit",
   "language": "python",
   "name": "python3"
  },
  "language_info": {
   "codemirror_mode": {
    "name": "ipython",
    "version": 3
   },
   "file_extension": ".py",
   "mimetype": "text/x-python",
   "name": "python",
   "nbconvert_exporter": "python",
   "pygments_lexer": "ipython3",
   "version": "3.10.5"
  },
  "orig_nbformat": 4,
  "vscode": {
   "interpreter": {
    "hash": "6f9dec4f0775976fff3583577171399f41663d55c8b1fb47d449bc8398a0275f"
   }
  }
 },
 "nbformat": 4,
 "nbformat_minor": 2
}
